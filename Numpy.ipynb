{
 "cells": [
  {
   "cell_type": "markdown",
   "id": "ab7d87b3",
   "metadata": {},
   "source": [
    "# NumPy Projects\n",
    "\n",
    "This notebook demonstrates my understanding of NumPy, one of Python’s core libraries for numerical and scientific computing.\n",
    "\n",
    "I'll explore:\n",
    "1. Array creation and manipulation  \n",
    "2. Indexing, slicing, and masking  \n",
    "3. Broadcasting and vectorization  \n",
    "4. Statistical operations  \n",
    "5. Linear algebra  \n",
    "6. Performance comparison  \n",
    "7. Mini synthetic data analysis\n"
   ]
  },
  {
   "cell_type": "code",
   "execution_count": null,
   "id": "cf4b46ed",
   "metadata": {},
   "outputs": [],
   "source": [
    "import numpy as np\n",
    "import time"
   ]
  },
  {
   "cell_type": "markdown",
   "id": "833d6f55",
   "metadata": {},
   "source": [
    "1. Array Creation & Manipulation"
   ]
  },
  {
   "cell_type": "code",
   "execution_count": null,
   "id": "dc4a6632",
   "metadata": {},
   "outputs": [],
   "source": [
    "# Create arrays in different ways\n",
    "array_1d = np.array([1, 2, 3, 4, 5])\n",
    "array_2d = np.array([[1, 2, 3], [4, 5, 6]])\n",
    "array_3d = np.random.randint(1, 10, (2, 3, 4))\n",
    "\n",
    "print(\"1D Array:\", array_1d)\n",
    "print(\"\\n2D Array:\\n\", array_2d)\n",
    "print(\"\\n3D Array:\\n\", array_3d)\n",
    "\n",
    "# Array properties\n",
    "print(\"\\nShape of 3D array:\", array_3d.shape)\n",
    "print(\"Dimensions:\", array_3d.ndim)\n",
    "print(\"Data type:\", array_3d.dtype)\n",
    "\n",
    "# Reshape example\n",
    "reshaped = np.arange(12).reshape(3, 4)\n",
    "print(\"\\nReshaped array (3x4):\\n\", reshaped)"
   ]
  },
  {
   "cell_type": "markdown",
   "id": "24393335",
   "metadata": {},
   "source": [
    "2. Indexing, Slicing & Boolean Masking"
   ]
  },
  {
   "cell_type": "code",
   "execution_count": null,
   "id": "8ddaebca",
   "metadata": {},
   "outputs": [],
   "source": [
    "scores = np.random.randint(40, 100, 10)\n",
    "print(\"Scores:\", scores)\n",
    "\n",
    "# Indexing\n",
    "print(\"First 3 scores:\", scores[:3])\n",
    "\n",
    "# Boolean masking\n",
    "passed = scores[scores >= 70]\n",
    "print(\"Students who passed (>=70):\", passed)"
   ]
  },
  {
   "cell_type": "markdown",
   "id": "2307b253",
   "metadata": {},
   "source": [
    "3. Broadcasting & Vectorization"
   ]
  },
  {
   "cell_type": "code",
   "execution_count": null,
   "id": "f8a8e333",
   "metadata": {},
   "outputs": [],
   "source": [
    "# Broadcasting: Adding a scalar to an array\n",
    "data = np.array([10, 20, 30, 40, 50])\n",
    "adjusted = data + 5\n",
    "print(\"Original:\", data)\n",
    "print(\"Adjusted:\", adjusted)\n",
    "\n",
    "# Broadcasting between arrays of different shapes\n",
    "matrix = np.array([[1, 2, 3],\n",
    "                   [4, 5, 6],\n",
    "                   [7, 8, 9]])\n",
    "\n",
    "bias = np.array([10, 20, 30])\n",
    "\n",
    "result = matrix + bias  # bias is broadcasted across rows\n",
    "print(\"\\nMatrix:\\n\", matrix)\n",
    "print(\"Bias:\", bias)\n",
    "print(\"\\nMatrix + Bias:\\n\", result)\n",
    "\n",
    "# Vectorized operations: applying functions to entire arrays\n",
    "squares = np.square(data)\n",
    "roots = np.sqrt(data)\n",
    "print(\"\\nSquares:\", squares)\n",
    "print(\"Square roots:\", np.round(roots, 2))"
   ]
  },
  {
   "cell_type": "markdown",
   "id": "d6283e78",
   "metadata": {},
   "source": [
    "4. Descriptive Statistics"
   ]
  },
  {
   "cell_type": "code",
   "execution_count": null,
   "id": "78720b66",
   "metadata": {},
   "outputs": [],
   "source": [
    "data = np.random.randint(50, 100, (5, 5))\n",
    "print(\"Data:\\n\", data)\n",
    "\n",
    "print(\"\\nMean:\", np.mean(data))\n",
    "print(\"Median:\", np.median(data))\n",
    "print(\"Standard Deviation:\", np.std(data))\n",
    "print(\"Variance:\", np.var(data))\n",
    "print(\"Correlation Coefficient Matrix:\\n\", np.corrcoef(data))"
   ]
  },
  {
   "cell_type": "markdown",
   "id": "dc3e0f3b",
   "metadata": {},
   "source": [
    "5. Linear Algebra Operations"
   ]
  },
  {
   "cell_type": "code",
   "execution_count": null,
   "id": "15af72a4",
   "metadata": {},
   "outputs": [],
   "source": [
    "A = np.array([[2, 3], [1, 4]])\n",
    "B = np.array([[5, 2], [3, 6]])\n",
    "\n",
    "print(\"Matrix A:\\n\", A)\n",
    "print(\"\\nMatrix B:\\n\", B)\n",
    "\n",
    "# Dot product\n",
    "print(\"\\nA dot B:\\n\", np.dot(A, B))\n",
    "\n",
    "# Determinant\n",
    "print(\"\\nDeterminant of A:\", round(np.linalg.det(A), 2))\n",
    "\n",
    "# Inverse\n",
    "print(\"\\nInverse of A:\\n\", np.linalg.inv(A))\n",
    "\n",
    "# Solving linear equations Ax = b\n",
    "b = np.array([8, 7])\n",
    "x = np.linalg.solve(A, b)\n",
    "print(\"\\nSolution for Ax=b:\\n\", x)"
   ]
  },
  {
   "cell_type": "markdown",
   "id": "8156546e",
   "metadata": {},
   "source": [
    "6. Mini Synthetic Data Analysis"
   ]
  },
  {
   "cell_type": "code",
   "execution_count": null,
   "id": "2c069186",
   "metadata": {},
   "outputs": [],
   "source": [
    "# Simulate temperature (°C) and humidity (%) data for 30 days\n",
    "days = np.arange(1, 31)\n",
    "temperature = np.random.normal(30, 3, 30)\n",
    "humidity = np.random.normal(60, 10, 30)\n",
    "\n",
    "# Compute summary\n",
    "avg_temp = np.mean(temperature)\n",
    "above_avg_days = days[temperature > avg_temp]\n",
    "correlation = np.corrcoef(temperature, humidity)[0, 1]\n",
    "\n",
    "print(f\"Average temperature: {avg_temp:.2f}°C\")\n",
    "print(\"Days with above-average temperature:\", above_avg_days)\n",
    "print(f\"Correlation between temperature and humidity: {correlation:.2f}\")\n"
   ]
  },
  {
   "cell_type": "markdown",
   "id": "0ede56dc",
   "metadata": {},
   "source": [
    "This project helped me strengthen my foundation in NumPy by practicing:\n",
    "- Array manipulation and indexing\n",
    "- Vectorization for performance\n",
    "- Statistical and linear algebra operations\n",
    "- Handling and analyzing synthetic numerical data\n",
    "\n",
    "NumPy truly powers most of Python’s data ecosystem, understanding it deeply sets a strong base for machine learning."
   ]
  }
 ],
 "metadata": {
  "kernelspec": {
   "display_name": "Python 3",
   "language": "python",
   "name": "python3"
  },
  "language_info": {
   "codemirror_mode": {
    "name": "ipython",
    "version": 3
   },
   "file_extension": ".py",
   "mimetype": "text/x-python",
   "name": "python",
   "nbconvert_exporter": "python",
   "pygments_lexer": "ipython3",
   "version": "3.12.0"
  }
 },
 "nbformat": 4,
 "nbformat_minor": 5
}
